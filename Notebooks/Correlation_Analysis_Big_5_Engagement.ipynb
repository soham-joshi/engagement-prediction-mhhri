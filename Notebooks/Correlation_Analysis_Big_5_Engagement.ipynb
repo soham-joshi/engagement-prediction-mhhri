{
  "nbformat": 4,
  "nbformat_minor": 0,
  "metadata": {
    "colab": {
      "provenance": []
    },
    "kernelspec": {
      "name": "python3",
      "display_name": "Python 3"
    },
    "language_info": {
      "name": "python"
    }
  },
  "cells": [
    {
      "cell_type": "markdown",
      "metadata": {
        "id": "jYNrvYqRW3Yx"
      },
      "source": [
        "## Correlation between Engagement and Big5 (Self)"
      ]
    },
    {
      "cell_type": "code",
      "metadata": {
        "id": "oYF4D0R6WZ3x"
      },
      "source": [
        "import pandas as pd\n",
        "import numpy as np\n",
        "import matplotlib.pyplot as plt\n",
        "import seaborn as sns"
      ],
      "execution_count": null,
      "outputs": []
    },
    {
      "cell_type": "code",
      "metadata": {
        "colab": {
          "base_uri": "https://localhost:8080/",
          "height": 206
        },
        "id": "n4KKKUbGYHXk",
        "outputId": "15186609-c8e2-42ca-fabe-0e904007f7e7"
      },
      "source": [
        "self_df = pd.read_csv('/content/Big_5_self.csv')\n",
        "self_df.head()"
      ],
      "execution_count": null,
      "outputs": [
        {
          "output_type": "execute_result",
          "data": {
            "text/html": [
              "<div>\n",
              "<style scoped>\n",
              "    .dataframe tbody tr th:only-of-type {\n",
              "        vertical-align: middle;\n",
              "    }\n",
              "\n",
              "    .dataframe tbody tr th {\n",
              "        vertical-align: top;\n",
              "    }\n",
              "\n",
              "    .dataframe thead th {\n",
              "        text-align: right;\n",
              "    }\n",
              "</style>\n",
              "<table border=\"1\" class=\"dataframe\">\n",
              "  <thead>\n",
              "    <tr style=\"text-align: right;\">\n",
              "      <th></th>\n",
              "      <th>user</th>\n",
              "      <th>Extraversion</th>\n",
              "      <th>Agreeableness</th>\n",
              "      <th>Conscientiousness</th>\n",
              "      <th>Neuroticism</th>\n",
              "      <th>Openness</th>\n",
              "    </tr>\n",
              "  </thead>\n",
              "  <tbody>\n",
              "    <tr>\n",
              "      <th>0</th>\n",
              "      <td>U001</td>\n",
              "      <td>6.5</td>\n",
              "      <td>8.5</td>\n",
              "      <td>8.0</td>\n",
              "      <td>3.5</td>\n",
              "      <td>5.0</td>\n",
              "    </tr>\n",
              "    <tr>\n",
              "      <th>1</th>\n",
              "      <td>U002</td>\n",
              "      <td>6.5</td>\n",
              "      <td>6.5</td>\n",
              "      <td>6.0</td>\n",
              "      <td>4.0</td>\n",
              "      <td>5.0</td>\n",
              "    </tr>\n",
              "    <tr>\n",
              "      <th>2</th>\n",
              "      <td>U003</td>\n",
              "      <td>8.5</td>\n",
              "      <td>5.0</td>\n",
              "      <td>9.5</td>\n",
              "      <td>1.5</td>\n",
              "      <td>5.5</td>\n",
              "    </tr>\n",
              "    <tr>\n",
              "      <th>3</th>\n",
              "      <td>U004</td>\n",
              "      <td>8.0</td>\n",
              "      <td>8.5</td>\n",
              "      <td>7.0</td>\n",
              "      <td>3.0</td>\n",
              "      <td>6.5</td>\n",
              "    </tr>\n",
              "    <tr>\n",
              "      <th>4</th>\n",
              "      <td>U005</td>\n",
              "      <td>2.0</td>\n",
              "      <td>3.0</td>\n",
              "      <td>6.0</td>\n",
              "      <td>7.5</td>\n",
              "      <td>4.5</td>\n",
              "    </tr>\n",
              "  </tbody>\n",
              "</table>\n",
              "</div>"
            ],
            "text/plain": [
              "   user  Extraversion  Agreeableness  Conscientiousness  Neuroticism  Openness\n",
              "0  U001           6.5            8.5                8.0          3.5       5.0\n",
              "1  U002           6.5            6.5                6.0          4.0       5.0\n",
              "2  U003           8.5            5.0                9.5          1.5       5.5\n",
              "3  U004           8.0            8.5                7.0          3.0       6.5\n",
              "4  U005           2.0            3.0                6.0          7.5       4.5"
            ]
          },
          "metadata": {},
          "execution_count": 19
        }
      ]
    },
    {
      "cell_type": "code",
      "metadata": {
        "colab": {
          "base_uri": "https://localhost:8080/",
          "height": 206
        },
        "id": "YBhDMt29Ya0f",
        "outputId": "c8f81067-58a2-4b17-bb10-1857f5be309d"
      },
      "source": [
        "eng_df = pd.read_csv('/content/Engagement_Index (1).csv')\n",
        "eng_df.head()"
      ],
      "execution_count": null,
      "outputs": [
        {
          "output_type": "execute_result",
          "data": {
            "text/html": [
              "<div>\n",
              "<style scoped>\n",
              "    .dataframe tbody tr th:only-of-type {\n",
              "        vertical-align: middle;\n",
              "    }\n",
              "\n",
              "    .dataframe tbody tr th {\n",
              "        vertical-align: top;\n",
              "    }\n",
              "\n",
              "    .dataframe thead th {\n",
              "        text-align: right;\n",
              "    }\n",
              "</style>\n",
              "<table border=\"1\" class=\"dataframe\">\n",
              "  <thead>\n",
              "    <tr style=\"text-align: right;\">\n",
              "      <th></th>\n",
              "      <th>user</th>\n",
              "      <th>eng_idx</th>\n",
              "    </tr>\n",
              "  </thead>\n",
              "  <tbody>\n",
              "    <tr>\n",
              "      <th>0</th>\n",
              "      <td>U001</td>\n",
              "      <td>9.0</td>\n",
              "    </tr>\n",
              "    <tr>\n",
              "      <th>1</th>\n",
              "      <td>U002</td>\n",
              "      <td>9.0</td>\n",
              "    </tr>\n",
              "    <tr>\n",
              "      <th>2</th>\n",
              "      <td>U003</td>\n",
              "      <td>5.0</td>\n",
              "    </tr>\n",
              "    <tr>\n",
              "      <th>3</th>\n",
              "      <td>U004</td>\n",
              "      <td>7.5</td>\n",
              "    </tr>\n",
              "    <tr>\n",
              "      <th>4</th>\n",
              "      <td>U005</td>\n",
              "      <td>8.0</td>\n",
              "    </tr>\n",
              "  </tbody>\n",
              "</table>\n",
              "</div>"
            ],
            "text/plain": [
              "   user  eng_idx\n",
              "0  U001      9.0\n",
              "1  U002      9.0\n",
              "2  U003      5.0\n",
              "3  U004      7.5\n",
              "4  U005      8.0"
            ]
          },
          "metadata": {},
          "execution_count": 29
        }
      ]
    },
    {
      "cell_type": "code",
      "metadata": {
        "colab": {
          "base_uri": "https://localhost:8080/"
        },
        "id": "zq4tMJ_8coRL",
        "outputId": "ff0790da-8b15-4b3a-ae0f-bf8c91062502"
      },
      "source": [
        "eng_df.columns"
      ],
      "execution_count": null,
      "outputs": [
        {
          "output_type": "execute_result",
          "data": {
            "text/plain": [
              "Index(['user', 'eng_idx'], dtype='object')"
            ]
          },
          "metadata": {},
          "execution_count": 30
        }
      ]
    },
    {
      "cell_type": "code",
      "metadata": {
        "colab": {
          "base_uri": "https://localhost:8080/",
          "height": 206
        },
        "id": "pNWPbkkNYmYR",
        "outputId": "3c002114-6788-4077-91f1-df6acdc4d6bd"
      },
      "source": [
        "merged_df = self_df.merge(eng_df, left_on = 'user', right_on='user')\n",
        "merged_df.head()"
      ],
      "execution_count": null,
      "outputs": [
        {
          "output_type": "execute_result",
          "data": {
            "text/html": [
              "<div>\n",
              "<style scoped>\n",
              "    .dataframe tbody tr th:only-of-type {\n",
              "        vertical-align: middle;\n",
              "    }\n",
              "\n",
              "    .dataframe tbody tr th {\n",
              "        vertical-align: top;\n",
              "    }\n",
              "\n",
              "    .dataframe thead th {\n",
              "        text-align: right;\n",
              "    }\n",
              "</style>\n",
              "<table border=\"1\" class=\"dataframe\">\n",
              "  <thead>\n",
              "    <tr style=\"text-align: right;\">\n",
              "      <th></th>\n",
              "      <th>user</th>\n",
              "      <th>Extraversion</th>\n",
              "      <th>Agreeableness</th>\n",
              "      <th>Conscientiousness</th>\n",
              "      <th>Neuroticism</th>\n",
              "      <th>Openness</th>\n",
              "      <th>eng_idx</th>\n",
              "    </tr>\n",
              "  </thead>\n",
              "  <tbody>\n",
              "    <tr>\n",
              "      <th>0</th>\n",
              "      <td>U001</td>\n",
              "      <td>6.5</td>\n",
              "      <td>8.5</td>\n",
              "      <td>8.0</td>\n",
              "      <td>3.5</td>\n",
              "      <td>5.0</td>\n",
              "      <td>9.0</td>\n",
              "    </tr>\n",
              "    <tr>\n",
              "      <th>1</th>\n",
              "      <td>U002</td>\n",
              "      <td>6.5</td>\n",
              "      <td>6.5</td>\n",
              "      <td>6.0</td>\n",
              "      <td>4.0</td>\n",
              "      <td>5.0</td>\n",
              "      <td>9.0</td>\n",
              "    </tr>\n",
              "    <tr>\n",
              "      <th>2</th>\n",
              "      <td>U003</td>\n",
              "      <td>8.5</td>\n",
              "      <td>5.0</td>\n",
              "      <td>9.5</td>\n",
              "      <td>1.5</td>\n",
              "      <td>5.5</td>\n",
              "      <td>5.0</td>\n",
              "    </tr>\n",
              "    <tr>\n",
              "      <th>3</th>\n",
              "      <td>U004</td>\n",
              "      <td>8.0</td>\n",
              "      <td>8.5</td>\n",
              "      <td>7.0</td>\n",
              "      <td>3.0</td>\n",
              "      <td>6.5</td>\n",
              "      <td>7.5</td>\n",
              "    </tr>\n",
              "    <tr>\n",
              "      <th>4</th>\n",
              "      <td>U005</td>\n",
              "      <td>2.0</td>\n",
              "      <td>3.0</td>\n",
              "      <td>6.0</td>\n",
              "      <td>7.5</td>\n",
              "      <td>4.5</td>\n",
              "      <td>8.0</td>\n",
              "    </tr>\n",
              "  </tbody>\n",
              "</table>\n",
              "</div>"
            ],
            "text/plain": [
              "   user  Extraversion  Agreeableness  ...  Neuroticism  Openness  eng_idx\n",
              "0  U001           6.5            8.5  ...          3.5       5.0      9.0\n",
              "1  U002           6.5            6.5  ...          4.0       5.0      9.0\n",
              "2  U003           8.5            5.0  ...          1.5       5.5      5.0\n",
              "3  U004           8.0            8.5  ...          3.0       6.5      7.5\n",
              "4  U005           2.0            3.0  ...          7.5       4.5      8.0\n",
              "\n",
              "[5 rows x 7 columns]"
            ]
          },
          "metadata": {},
          "execution_count": 31
        }
      ]
    },
    {
      "cell_type": "code",
      "metadata": {
        "colab": {
          "base_uri": "https://localhost:8080/"
        },
        "id": "8Wf-VlxrdqUL",
        "outputId": "21bcdab6-1265-4898-f5a7-8cc538617364"
      },
      "source": [
        "merged_df.corr()['eng_idx']"
      ],
      "execution_count": null,
      "outputs": [
        {
          "output_type": "execute_result",
          "data": {
            "text/plain": [
              "Extraversion         0.083494\n",
              "Agreeableness        0.299443\n",
              "Conscientiousness    0.059865\n",
              "Neuroticism          0.482115\n",
              "Openness             0.036232\n",
              "eng_idx              1.000000\n",
              "Name: eng_idx, dtype: float64"
            ]
          },
          "metadata": {},
          "execution_count": 32
        }
      ]
    },
    {
      "cell_type": "markdown",
      "metadata": {
        "id": "_ndEMRGbfI6e"
      },
      "source": [
        "### Correlation between Engagement and Big5 (Acquaintance)"
      ]
    },
    {
      "cell_type": "code",
      "metadata": {
        "colab": {
          "base_uri": "https://localhost:8080/",
          "height": 206
        },
        "id": "DafBtFlVdtPN",
        "outputId": "612fa4b7-d2e2-4ab1-c1bc-a6042ae428f1"
      },
      "source": [
        "acq_df = pd.read_csv('/content/Acquaintance_Assessment_Big5_Traits.csv')\n",
        "acq_df.head()"
      ],
      "execution_count": null,
      "outputs": [
        {
          "output_type": "execute_result",
          "data": {
            "text/html": [
              "<div>\n",
              "<style scoped>\n",
              "    .dataframe tbody tr th:only-of-type {\n",
              "        vertical-align: middle;\n",
              "    }\n",
              "\n",
              "    .dataframe tbody tr th {\n",
              "        vertical-align: top;\n",
              "    }\n",
              "\n",
              "    .dataframe thead th {\n",
              "        text-align: right;\n",
              "    }\n",
              "</style>\n",
              "<table border=\"1\" class=\"dataframe\">\n",
              "  <thead>\n",
              "    <tr style=\"text-align: right;\">\n",
              "      <th></th>\n",
              "      <th>user</th>\n",
              "      <th>Extraversion</th>\n",
              "      <th>Agreeableness</th>\n",
              "      <th>Conscientiousness</th>\n",
              "      <th>Neuroticism</th>\n",
              "      <th>Openness</th>\n",
              "    </tr>\n",
              "  </thead>\n",
              "  <tbody>\n",
              "    <tr>\n",
              "      <th>0</th>\n",
              "      <td>U001</td>\n",
              "      <td>5.181818</td>\n",
              "      <td>5.227273</td>\n",
              "      <td>4.772727</td>\n",
              "      <td>4.909091</td>\n",
              "      <td>5.000000</td>\n",
              "    </tr>\n",
              "    <tr>\n",
              "      <th>1</th>\n",
              "      <td>U002</td>\n",
              "      <td>5.666667</td>\n",
              "      <td>5.666667</td>\n",
              "      <td>4.875000</td>\n",
              "      <td>5.625000</td>\n",
              "      <td>6.083333</td>\n",
              "    </tr>\n",
              "    <tr>\n",
              "      <th>2</th>\n",
              "      <td>U003</td>\n",
              "      <td>5.291667</td>\n",
              "      <td>5.833333</td>\n",
              "      <td>4.916667</td>\n",
              "      <td>5.375000</td>\n",
              "      <td>5.958333</td>\n",
              "    </tr>\n",
              "    <tr>\n",
              "      <th>3</th>\n",
              "      <td>U004</td>\n",
              "      <td>5.958333</td>\n",
              "      <td>5.250000</td>\n",
              "      <td>5.375000</td>\n",
              "      <td>5.500000</td>\n",
              "      <td>6.625000</td>\n",
              "    </tr>\n",
              "    <tr>\n",
              "      <th>4</th>\n",
              "      <td>U005</td>\n",
              "      <td>5.772727</td>\n",
              "      <td>5.454545</td>\n",
              "      <td>5.454545</td>\n",
              "      <td>5.454545</td>\n",
              "      <td>6.045455</td>\n",
              "    </tr>\n",
              "  </tbody>\n",
              "</table>\n",
              "</div>"
            ],
            "text/plain": [
              "   user  Extraversion  Agreeableness  Conscientiousness  Neuroticism  Openness\n",
              "0  U001      5.181818       5.227273           4.772727     4.909091  5.000000\n",
              "1  U002      5.666667       5.666667           4.875000     5.625000  6.083333\n",
              "2  U003      5.291667       5.833333           4.916667     5.375000  5.958333\n",
              "3  U004      5.958333       5.250000           5.375000     5.500000  6.625000\n",
              "4  U005      5.772727       5.454545           5.454545     5.454545  6.045455"
            ]
          },
          "metadata": {},
          "execution_count": 33
        }
      ]
    },
    {
      "cell_type": "code",
      "metadata": {
        "colab": {
          "base_uri": "https://localhost:8080/",
          "height": 206
        },
        "id": "1f0IjFfNfXxX",
        "outputId": "7064976f-7547-4730-912c-13274378e0e0"
      },
      "source": [
        "merged_df_2 = acq_df.merge(eng_df, left_on = 'user', right_on='user')\n",
        "merged_df_2.head()"
      ],
      "execution_count": null,
      "outputs": [
        {
          "output_type": "execute_result",
          "data": {
            "text/html": [
              "<div>\n",
              "<style scoped>\n",
              "    .dataframe tbody tr th:only-of-type {\n",
              "        vertical-align: middle;\n",
              "    }\n",
              "\n",
              "    .dataframe tbody tr th {\n",
              "        vertical-align: top;\n",
              "    }\n",
              "\n",
              "    .dataframe thead th {\n",
              "        text-align: right;\n",
              "    }\n",
              "</style>\n",
              "<table border=\"1\" class=\"dataframe\">\n",
              "  <thead>\n",
              "    <tr style=\"text-align: right;\">\n",
              "      <th></th>\n",
              "      <th>user</th>\n",
              "      <th>Extraversion</th>\n",
              "      <th>Agreeableness</th>\n",
              "      <th>Conscientiousness</th>\n",
              "      <th>Neuroticism</th>\n",
              "      <th>Openness</th>\n",
              "      <th>eng_idx</th>\n",
              "    </tr>\n",
              "  </thead>\n",
              "  <tbody>\n",
              "    <tr>\n",
              "      <th>0</th>\n",
              "      <td>U001</td>\n",
              "      <td>5.181818</td>\n",
              "      <td>5.227273</td>\n",
              "      <td>4.772727</td>\n",
              "      <td>4.909091</td>\n",
              "      <td>5.000000</td>\n",
              "      <td>9.0</td>\n",
              "    </tr>\n",
              "    <tr>\n",
              "      <th>1</th>\n",
              "      <td>U002</td>\n",
              "      <td>5.666667</td>\n",
              "      <td>5.666667</td>\n",
              "      <td>4.875000</td>\n",
              "      <td>5.625000</td>\n",
              "      <td>6.083333</td>\n",
              "      <td>9.0</td>\n",
              "    </tr>\n",
              "    <tr>\n",
              "      <th>2</th>\n",
              "      <td>U003</td>\n",
              "      <td>5.291667</td>\n",
              "      <td>5.833333</td>\n",
              "      <td>4.916667</td>\n",
              "      <td>5.375000</td>\n",
              "      <td>5.958333</td>\n",
              "      <td>5.0</td>\n",
              "    </tr>\n",
              "    <tr>\n",
              "      <th>3</th>\n",
              "      <td>U004</td>\n",
              "      <td>5.958333</td>\n",
              "      <td>5.250000</td>\n",
              "      <td>5.375000</td>\n",
              "      <td>5.500000</td>\n",
              "      <td>6.625000</td>\n",
              "      <td>7.5</td>\n",
              "    </tr>\n",
              "    <tr>\n",
              "      <th>4</th>\n",
              "      <td>U005</td>\n",
              "      <td>5.772727</td>\n",
              "      <td>5.454545</td>\n",
              "      <td>5.454545</td>\n",
              "      <td>5.454545</td>\n",
              "      <td>6.045455</td>\n",
              "      <td>8.0</td>\n",
              "    </tr>\n",
              "  </tbody>\n",
              "</table>\n",
              "</div>"
            ],
            "text/plain": [
              "   user  Extraversion  Agreeableness  ...  Neuroticism  Openness  eng_idx\n",
              "0  U001      5.181818       5.227273  ...     4.909091  5.000000      9.0\n",
              "1  U002      5.666667       5.666667  ...     5.625000  6.083333      9.0\n",
              "2  U003      5.291667       5.833333  ...     5.375000  5.958333      5.0\n",
              "3  U004      5.958333       5.250000  ...     5.500000  6.625000      7.5\n",
              "4  U005      5.772727       5.454545  ...     5.454545  6.045455      8.0\n",
              "\n",
              "[5 rows x 7 columns]"
            ]
          },
          "metadata": {},
          "execution_count": 34
        }
      ]
    },
    {
      "cell_type": "code",
      "metadata": {
        "colab": {
          "base_uri": "https://localhost:8080/"
        },
        "id": "HNe-0OgEflbh",
        "outputId": "aceac6a9-6674-4776-c9a9-87aafe128742"
      },
      "source": [
        "merged_df_2.corr()['eng_idx']"
      ],
      "execution_count": null,
      "outputs": [
        {
          "output_type": "execute_result",
          "data": {
            "text/plain": [
              "Extraversion         0.062721\n",
              "Agreeableness       -0.132233\n",
              "Conscientiousness    0.121807\n",
              "Neuroticism         -0.254233\n",
              "Openness            -0.426842\n",
              "eng_idx              1.000000\n",
              "Name: eng_idx, dtype: float64"
            ]
          },
          "metadata": {},
          "execution_count": 35
        }
      ]
    },
    {
      "cell_type": "code",
      "metadata": {
        "id": "XiRzlaGYfnxx"
      },
      "source": [],
      "execution_count": null,
      "outputs": []
    }
  ]
}