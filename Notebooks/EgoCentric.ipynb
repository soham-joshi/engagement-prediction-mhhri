{
 "cells": [
  {
   "cell_type": "markdown",
   "id": "db4dfb98-54e3-4438-a289-3473834f4380",
   "metadata": {},
   "source": [
    "## FPV features"
   ]
  },
  {
   "cell_type": "code",
   "execution_count": 4,
   "id": "6e0ae3af-016f-4968-8ae8-64aabc59cbfc",
   "metadata": {},
   "outputs": [
    {
     "name": "stdout",
     "output_type": "stream",
     "text": [
      "/home/ubuntu/MHHRI/Ego\n",
      "total 16K\n",
      "drwxrwxr-x 4 ubuntu ubuntu 4.0K Aug 29 21:37 HHI_Ego_Recordings_Part1\n",
      "drwxrwxr-x 2 ubuntu ubuntu 4.0K Aug 29 19:03 HHI_Ego_Recordings_Part2\n",
      "drwxrwxr-x 2 ubuntu ubuntu 4.0K Aug 29 19:16 HRI_Ego_Recordings_Part1\n",
      "drwxrwxr-x 2 ubuntu ubuntu 4.0K Aug 29 19:26 HRI_Ego_Recordings_Part2\n"
     ]
    }
   ],
   "source": [
    "%cd Ego\n",
    "!ls -lh"
   ]
  },
  {
   "cell_type": "code",
   "execution_count": 7,
   "id": "93551a4a-8d7b-4b76-b730-5afe7ecc97fc",
   "metadata": {},
   "outputs": [
    {
     "name": "stdout",
     "output_type": "stream",
     "text": [
      "HHI_Ego_Recordings_Part1  HRI_Ego_Recordings_Part1\n",
      "HHI_Ego_Recordings_Part2  HRI_Ego_Recordings_Part2\n"
     ]
    }
   ],
   "source": [
    "!ls"
   ]
  },
  {
   "cell_type": "code",
   "execution_count": 13,
   "id": "563bbdc3-1035-48f3-9a04-eaadf223ac17",
   "metadata": {},
   "outputs": [
    {
     "name": "stdout",
     "output_type": "stream",
     "text": [
      "/home/ubuntu/MHHRI/Ego/HHI_Ego_Recordings_Part1/HHI_Ego_Recordings_Part1\n"
     ]
    }
   ],
   "source": [
    "%cd HHI_Ego_Recordings_Part1/HHI_Ego_Recordings_Part1"
   ]
  },
  {
   "cell_type": "code",
   "execution_count": 14,
   "id": "5bd3eabc-4aa1-45d3-ba43-57dc474f38e3",
   "metadata": {},
   "outputs": [
    {
     "name": "stdout",
     "output_type": "stream",
     "text": [
      "S01_FP_U001_SP_U003_clip01.avi\tS04_FP_U006_SP_U007_clip02.MOV\n",
      "S01_FP_U001_SP_U003_clip02.MOV\tS04_FP_U006_SP_U007_clip03.MOV\n",
      "S01_FP_U001_SP_U003_clip03.MOV\tS04_FP_U006_SP_U007_clip04.MOV\n",
      "S01_FP_U001_SP_U003_clip04.MOV\tS04_FP_U006_SP_U007_clip05.MOV\n",
      "S01_FP_U001_SP_U003_clip05.MOV\tS04_FP_U006_SP_U007_clip06.MOV\n",
      "S01_FP_U001_SP_U003_clip06.MOV\tS04_FP_U006_SP_U007_clip07.MOV\n",
      "S01_FP_U001_SP_U003_clip07.MOV\tS04_FP_U006_SP_U007_clip08.MOV\n",
      "S01_FP_U001_SP_U003_clip08.MOV\tS04_FP_U006_SP_U007_clip09.MOV\n",
      "S01_FP_U001_SP_U003_clip09.MOV\tS04_FP_U006_SP_U007_clip10.MOV\n",
      "S01_FP_U001_SP_U003_clip10.MOV\tS04_FP_U006_SP_U007_clip11.MOV\n",
      "S01_FP_U001_SP_U003_clip11.MOV\tS04_FP_U006_SP_U007_clip12.MOV\n",
      "S01_FP_U001_SP_U003_clip12.MOV\tS04_FP_U007_SP_U006_clip01.MOV\n",
      "S01_FP_U003_SP_U001_clip01.MOV\tS04_FP_U007_SP_U006_clip02.MOV\n",
      "S01_FP_U003_SP_U001_clip02.MOV\tS04_FP_U007_SP_U006_clip03.MOV\n",
      "S01_FP_U003_SP_U001_clip03.MOV\tS04_FP_U007_SP_U006_clip04.MOV\n",
      "S01_FP_U003_SP_U001_clip04.MOV\tS04_FP_U007_SP_U006_clip05.MOV\n",
      "S01_FP_U003_SP_U001_clip05.MOV\tS04_FP_U007_SP_U006_clip06.MOV\n",
      "S01_FP_U003_SP_U001_clip06.MOV\tS04_FP_U007_SP_U006_clip07.MOV\n",
      "S01_FP_U003_SP_U001_clip07.MOV\tS04_FP_U007_SP_U006_clip08.MOV\n",
      "S01_FP_U003_SP_U001_clip08.MOV\tS04_FP_U007_SP_U006_clip09.MOV\n",
      "S01_FP_U003_SP_U001_clip09.MOV\tS04_FP_U007_SP_U006_clip10.MOV\n",
      "S01_FP_U003_SP_U001_clip10.MOV\tS04_FP_U007_SP_U006_clip11.MOV\n",
      "S01_FP_U003_SP_U001_clip11.MOV\tS04_FP_U007_SP_U006_clip12.MOV\n",
      "S01_FP_U003_SP_U001_clip12.MOV\tS05_FP_U008_SP_U009_clip01.MOV\n",
      "S02_FP_U001_SP_U002_clip01.MOV\tS05_FP_U008_SP_U009_clip02.MOV\n",
      "S02_FP_U001_SP_U002_clip02.MOV\tS05_FP_U008_SP_U009_clip03.MOV\n",
      "S02_FP_U001_SP_U002_clip03.MOV\tS05_FP_U008_SP_U009_clip04.MOV\n",
      "S02_FP_U001_SP_U002_clip04.MOV\tS05_FP_U008_SP_U009_clip05.MOV\n",
      "S02_FP_U001_SP_U002_clip05.MOV\tS05_FP_U008_SP_U009_clip06.MOV\n",
      "S02_FP_U001_SP_U002_clip06.MOV\tS05_FP_U008_SP_U009_clip07.MOV\n",
      "S02_FP_U001_SP_U002_clip07.MOV\tS05_FP_U008_SP_U009_clip08.MOV\n",
      "S02_FP_U001_SP_U002_clip08.MOV\tS05_FP_U008_SP_U009_clip09.MOV\n",
      "S02_FP_U001_SP_U002_clip09.MOV\tS05_FP_U008_SP_U009_clip10.MOV\n",
      "S02_FP_U001_SP_U002_clip10.MOV\tS05_FP_U008_SP_U009_clip11.MOV\n",
      "S02_FP_U001_SP_U002_clip11.MOV\tS05_FP_U008_SP_U009_clip12.MOV\n",
      "S02_FP_U001_SP_U002_clip12.MOV\tS05_FP_U009_SP_U008_clip01.MOV\n",
      "S02_FP_U002_SP_U001_clip01.MOV\tS05_FP_U009_SP_U008_clip02.MOV\n",
      "S02_FP_U002_SP_U001_clip02.MOV\tS05_FP_U009_SP_U008_clip03.MOV\n",
      "S02_FP_U002_SP_U001_clip03.MOV\tS05_FP_U009_SP_U008_clip04.MOV\n",
      "S02_FP_U002_SP_U001_clip04.MOV\tS05_FP_U009_SP_U008_clip05.MOV\n",
      "S02_FP_U002_SP_U001_clip05.MOV\tS05_FP_U009_SP_U008_clip06.MOV\n",
      "S02_FP_U002_SP_U001_clip06.MOV\tS05_FP_U009_SP_U008_clip07.MOV\n",
      "S02_FP_U002_SP_U001_clip07.MOV\tS05_FP_U009_SP_U008_clip08.MOV\n",
      "S02_FP_U002_SP_U001_clip08.MOV\tS05_FP_U009_SP_U008_clip09.MOV\n",
      "S02_FP_U002_SP_U001_clip09.MOV\tS05_FP_U009_SP_U008_clip10.MOV\n",
      "S02_FP_U002_SP_U001_clip10.MOV\tS05_FP_U009_SP_U008_clip11.MOV\n",
      "S02_FP_U002_SP_U001_clip11.MOV\tS05_FP_U009_SP_U008_clip12.MOV\n",
      "S02_FP_U002_SP_U001_clip12.MOV\tS06_FP_U010_SP_U011_clip01.MOV\n",
      "S03_FP_U004_SP_U005_clip01.MOV\tS06_FP_U010_SP_U011_clip02.MOV\n",
      "S03_FP_U004_SP_U005_clip03.MOV\tS06_FP_U010_SP_U011_clip03.MOV\n",
      "S03_FP_U004_SP_U005_clip04.MOV\tS06_FP_U010_SP_U011_clip04.MOV\n",
      "S03_FP_U004_SP_U005_clip05.MOV\tS06_FP_U010_SP_U011_clip05.MOV\n",
      "S03_FP_U004_SP_U005_clip06.MOV\tS06_FP_U010_SP_U011_clip06.MOV\n",
      "S03_FP_U004_SP_U005_clip07.MOV\tS06_FP_U010_SP_U011_clip08.MOV\n",
      "S03_FP_U004_SP_U005_clip08.MOV\tS06_FP_U010_SP_U011_clip09.MOV\n",
      "S03_FP_U004_SP_U005_clip09.MOV\tS06_FP_U010_SP_U011_clip10.MOV\n",
      "S03_FP_U004_SP_U005_clip11.MOV\tS06_FP_U010_SP_U011_clip11.MOV\n",
      "S03_FP_U004_SP_U005_clip12.MOV\tS06_FP_U010_SP_U011_clip12.MOV\n",
      "S03_FP_U004_SP_U005_clip14.MOV\tS06_FP_U010_SP_U011_clip13.MOV\n",
      "S03_FP_U004_SP_U005_clip15.MOV\tS06_FP_U010_SP_U011_clip14.MOV\n",
      "S03_FP_U005_SP_U004_clip01.MOV\tS06_FP_U011_SP_U010_clip01.MOV\n",
      "S03_FP_U005_SP_U004_clip03.MOV\tS06_FP_U011_SP_U010_clip02.MOV\n",
      "S03_FP_U005_SP_U004_clip04.MOV\tS06_FP_U011_SP_U010_clip03.MOV\n",
      "S03_FP_U005_SP_U004_clip05.MOV\tS06_FP_U011_SP_U010_clip04.MOV\n",
      "S03_FP_U005_SP_U004_clip06.MOV\tS06_FP_U011_SP_U010_clip05.MOV\n",
      "S03_FP_U005_SP_U004_clip07.MOV\tS06_FP_U011_SP_U010_clip06.MOV\n",
      "S03_FP_U005_SP_U004_clip08.MOV\tS06_FP_U011_SP_U010_clip08.MOV\n",
      "S03_FP_U005_SP_U004_clip09.MOV\tS06_FP_U011_SP_U010_clip09.MOV\n",
      "S03_FP_U005_SP_U004_clip11.MOV\tS06_FP_U011_SP_U010_clip10.MOV\n",
      "S03_FP_U005_SP_U004_clip12.MOV\tS06_FP_U011_SP_U010_clip11.MOV\n",
      "S03_FP_U005_SP_U004_clip14.MOV\tS06_FP_U011_SP_U010_clip12.MOV\n",
      "S03_FP_U005_SP_U004_clip15.MOV\tS06_FP_U011_SP_U010_clip13.MOV\n",
      "S04_FP_U006_SP_U007_clip01.MOV\tS06_FP_U011_SP_U010_clip14.MOV\n"
     ]
    }
   ],
   "source": [
    "!ls"
   ]
  }
 ],
 "metadata": {
  "kernelspec": {
   "display_name": "Python 3 (ipykernel)",
   "language": "python",
   "name": "python3"
  },
  "language_info": {
   "codemirror_mode": {
    "name": "ipython",
    "version": 3
   },
   "file_extension": ".py",
   "mimetype": "text/x-python",
   "name": "python",
   "nbconvert_exporter": "python",
   "pygments_lexer": "ipython3",
   "version": "3.9.6"
  }
 },
 "nbformat": 4,
 "nbformat_minor": 5
}
